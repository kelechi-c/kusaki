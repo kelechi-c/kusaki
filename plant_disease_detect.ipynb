{
 "cells": [
  {
   "cell_type": "code",
   "execution_count": null,
   "metadata": {},
   "outputs": [],
   "source": [
    "import numpy as np\n",
    "import tensorflow as tf\n",
    "from tensorflow.keras import layers, models\n",
    "from sklearn.preprocessing import LabelEncoder"
   ]
  },
  {
   "cell_type": "code",
   "execution_count": null,
   "metadata": {},
   "outputs": [],
   "source": [
    "data_dir = \"/kaggle/input/plantvillage-dataset/color\"\n",
    "image_size = 128\n",
    "batch_size = 64\n",
    "learn_rate = 0.01\n",
    "epochs = 100"
   ]
  },
  {
   "cell_type": "code",
   "execution_count": null,
   "metadata": {},
   "outputs": [],
   "source": [
    "def detect_plant_disease(image):\n",
    "    \n",
    "    \n",
    "input_text = test_sentences[1]\n",
    "\n",
    "for input_text in test_sentences:\n",
    "    input = preprocess_text(input_text)\n",
    "\n",
    "    score = text_model.predict(input)\n",
    "\n",
    "    emotions = ['sadness (0)', 'joy (1)', 'love (2)', 'anger (3)', 'fear (4)', 'surprise (5)']\n",
    "\n",
    "    predicted_class = np.argmax(score)\n",
    "    certainty = 100 * np.max(score)\n",
    "\n",
    "    print(f'Input Sentence: {input_text}')\n",
    "    print(f'Predicted: {emotions[predicted_class]}')\n",
    "    print(f'Certainty: {certainty:.2f}%')"
   ]
  }
 ],
 "metadata": {
  "kernelspec": {
   "display_name": "Python 3",
   "language": "python",
   "name": "python3"
  },
  "language_info": {
   "name": "python",
   "version": "3.10.12"
  }
 },
 "nbformat": 4,
 "nbformat_minor": 2
}
