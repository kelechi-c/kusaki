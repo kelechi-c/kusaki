{
 "cells": [
  {
   "cell_type": "code",
   "execution_count": null,
   "metadata": {},
   "outputs": [],
   "source": [
    "import numpy as np\n",
    "import matplotlib.pyplot as plt \n",
    "import tensorflow as tf\n",
    "import cv2\n",
    "import os \n",
    "import keras\n",
    "from keras import layers, models\n",
    "from keras import save_model\n",
    "from tensorflow import keras as tfkeras\n",
    "from sklearn.preprocessing import LabelEncoder\n",
    "from tqdm.auto import tqdm "
   ]
  },
  {
   "cell_type": "code",
   "execution_count": null,
   "metadata": {},
   "outputs": [],
   "source": [
    "image_size = 128\n",
    "batch_size = 64\n",
    "learn_rate = 0.01\n",
    "epochs = 100\n",
    "data_dir = \"/kaggle/input/plantvillage-dataset/color\"\n",
    "input_folder = \"/kaggle/input/plant-disease-test/test_images\"\n",
    "test_images = os.listdir(\"/kaggle/input/plant-disease-test/test_images\")"
   ]
  },
  {
   "cell_type": "code",
   "execution_count": null,
   "metadata": {},
   "outputs": [],
   "source": [
    "def read_img(image_data):\n",
    "    try:\n",
    "        image = cv2.imread(image_data)\n",
    "\n",
    "        image = cv2.cvtColor(image, cv2.COLOR_BGR2RGB)\n",
    "        image = cv2.resize(image, (image_size, image_size))\n",
    "        image = np.array(image, dtype=np.float32) / 255.0  # Normalize the image\n",
    "        image = image.reshape(1, image_size, image_size, 3)\n",
    "        \n",
    "        return image\n",
    "\n",
    "    except Exception as e:\n",
    "        print(f\"Error> {e}\")"
   ]
  },
  {
   "cell_type": "markdown",
   "metadata": {},
   "source": []
  },
  {
   "cell_type": "code",
   "execution_count": null,
   "metadata": {},
   "outputs": [],
   "source": [
    "train_data = tf.keras.utils.image_dataset_from_directory(\n",
    "    data_dir,\n",
    "    validation_split=0.1,\n",
    "    subset=\"training\",\n",
    "    seed=123,\n",
    "    image_size=(image_size, image_size),\n",
    "    batch_size=batch_size,\n",
    ")\n",
    "\n",
    "val_data = tf.keras.utils.image_dataset_from_directory(\n",
    "    data_dir,\n",
    "    validation_split=0.1,\n",
    "    subset=\"validation\",\n",
    "    seed=123,\n",
    "    image_size=(image_size, image_size),\n",
    "    batch_size=batch_size,\n",
    ")"
   ]
  },
  {
   "cell_type": "code",
   "execution_count": null,
   "metadata": {},
   "outputs": [],
   "source": [
    "lencoder = LabelEncoder()\n",
    "\n",
    "disease_classes = train_data.class_names\n",
    "\n",
    "enc_classes = lencoder.fit_transform(disease_classes)\n",
    "\n",
    "encoded_disease_classes = lencoder.classes_"
   ]
  },
  {
   "cell_type": "code",
   "execution_count": null,
   "metadata": {},
   "outputs": [],
   "source": [
    "AUTOTUNE = tf.data.AUTOTUNE\n",
    "\n",
    "train_ds = train_data.cache().shuffle(1000).prefetch(buffer_size=AUTOTUNE)\n",
    "val_ds = val_data.cache().prefetch(buffer_size=AUTOTUNE)\n",
    "\n",
    "optimizer = keras.optimizers.Adam(learning_rate=learn_rate)\n",
    "\n",
    "early_stop = tfkeras.callbacks.EarlyStopping(\n",
    "    min_delta=0.001, patience=10, restore_best_weights=True\n",
    ")"
   ]
  },
  {
   "cell_type": "code",
   "execution_count": null,
   "metadata": {},
   "outputs": [],
   "source": [
    "disease_clf = models.Sequential(\n",
    "    [\n",
    "        layers.Rescaling(1.0 / 255, input_shape=(image_size, image_size, 3)),\n",
    "        layers.Conv2D(16, 3, padding=\"same\", activation=\"relu\"),\n",
    "        layers.MaxPooling2D(),\n",
    "        layers.Conv2D(32, 3, padding=\"same\", activation=\"relu\"),\n",
    "        layers.MaxPooling2D(),\n",
    "        layers.Conv2D(64, 3, padding=\"same\", activation=\"relu\"),\n",
    "        layers.MaxPooling2D(),\n",
    "        layers.Conv2D(128, 3, padding=\"same\", activation=\"relu\"),\n",
    "        layers.MaxPooling2D(),\n",
    "        layers.Flatten(),\n",
    "        layers.Dense(256, activation=\"relu\"),\n",
    "        layers.Dense(38, activation=\"softmax\"),\n",
    "    ]\n",
    ")\n",
    "\n",
    "disease_clf.compile(\n",
    "    optimizer=optimizer, loss=\"sparse_categorical_crossentropy\", metrics=[\"accuracy\"]\n",
    ")\n",
    "\n",
    "disease_clf.summary()"
   ]
  },
  {
   "cell_type": "code",
   "execution_count": null,
   "metadata": {},
   "outputs": [],
   "source": [
    "%%time\n",
    "\n",
    "history = disease_clf.fit(\n",
    "  train_ds,\n",
    "  validation_data=val_ds,\n",
    "  epochs=epochs,\n",
    ")"
   ]
  },
  {
   "cell_type": "code",
   "execution_count": null,
   "metadata": {},
   "outputs": [],
   "source": [
    "test_accuracy = disease_clf.evaluate(val_data, batch_size=32)\n",
    "\n",
    "print(\n",
    "    f\"The trained plant leaf disease detection model has an accuracy of {100*test_accuracy[1]}%\"\n",
    ")"
   ]
  },
  {
   "cell_type": "code",
   "execution_count": null,
   "metadata": {},
   "outputs": [],
   "source": [
    "acc = history.history[\"accuracy\"]\n",
    "val_acc = history.history[\"val_accuracy\"]\n",
    "\n",
    "loss = history.history[\"loss\"]\n",
    "val_loss = history.history[\"val_loss\"]\n",
    "\n",
    "epochs_range = range(epochs)"
   ]
  },
  {
   "cell_type": "code",
   "execution_count": null,
   "metadata": {},
   "outputs": [],
   "source": [
    "plt.figure(figsize=(8, 8))\n",
    "plt.plot(epochs_range, acc, label=\"Training Accuracy\")\n",
    "plt.plot(epochs_range, val_acc, label=\"Validation Accuracy\")\n",
    "plt.legend(loc=\"upper right\")\n",
    "plt.title(\"Training and Validation Accuracy\")"
   ]
  },
  {
   "cell_type": "code",
   "execution_count": null,
   "metadata": {},
   "outputs": [],
   "source": [
    "plt.plot(epochs_range, loss, label=\"Training Loss\")\n",
    "plt.plot(epochs_range, val_loss, label=\"Validation Loss\")\n",
    "plt.legend(loc=\"upper right\")\n",
    "plt.title(\"Training and Validation Loss\")\n",
    "plt.show()"
   ]
  },
  {
   "cell_type": "code",
   "execution_count": null,
   "metadata": {},
   "outputs": [],
   "source": [
    "disease_clf.save(\"tf_plant_disease_classifier.keras\")\n",
    "disease_clf.save(\"tf_plant_disease_classifier.h5\")"
   ]
  },
  {
   "cell_type": "code",
   "execution_count": null,
   "metadata": {},
   "outputs": [],
   "source": [
    "def process_image(imgpath):\n",
    "    fileImage = Image.open(imgpath).convert(\"RGB\").resize([width, height], Image.LANCZOS)  # type: ignore\n",
    "    image = np.array(fileImage)\n",
    "    img_array = image.reshape(1, width, height, 3)\n",
    "    img_array = img_array.astype(\"float32\")\n",
    "    img_array = img_array / 255.0\n",
    "\n",
    "    return img_array\n",
    "\n",
    "\n",
    "image_classifier = loadmodel()\n",
    "prediction = predict(img_path)\n",
    "predicted_class = prediction.argmax()\n",
    "certainty = 100 * prediction.max()"
   ]
  },
  {
   "cell_type": "code",
   "execution_count": null,
   "metadata": {},
   "outputs": [],
   "source": [
    "image_list = [os.path.join(input_folder, image_file) for image_file in test_images]\n",
    "\n",
    "def detect_plant_disease(image: str):\n",
    "    image = read_img(image)\n",
    "    class_score = disease_clf.predict(image)\n",
    "    \n",
    "    predicted_class = class_score.argmax()\n",
    "    certainty = 100 * class_score.max()\n",
    "    \n",
    "    return predicted_class, certainty\n",
    "    \n",
    "    \n",
    "for image in tqdm(image_list):\n",
    "    disease_class, certainty = detect_plant_disease(image)\n",
    "    \n",
    "    print(f'Input Sentence: {image}')\n",
    "    print(f'Predicted: {encoded_disease_classes[disease_class]}')\n",
    "    print(f'Certainty: {certainty:.2f}%')"
   ]
  },
  {
   "cell_type": "code",
   "execution_count": null,
   "metadata": {},
   "outputs": [],
   "source": [
    "converter = tf.lite.TFLiteConverter.from_keras_model(disease_clf)\n",
    "tflite_model = converter.convert()\n",
    "\n",
    "\n",
    "with open(\"leaf_disease_clf.tflite\", \"wb\") as f:\n",
    "    f.write(tflite_model)"
   ]
  }
 ],
 "metadata": {
  "kernelspec": {
   "display_name": "Python 3",
   "language": "python",
   "name": "python3"
  },
  "language_info": {
   "codemirror_mode": {
    "name": "ipython",
    "version": 3
   },
   "file_extension": ".py",
   "mimetype": "text/x-python",
   "name": "python",
   "nbconvert_exporter": "python",
   "pygments_lexer": "ipython3",
   "version": "3.10.12"
  }
 },
 "nbformat": 4,
 "nbformat_minor": 2
}
